{
 "cells": [
  {
   "cell_type": "code",
   "execution_count": 26,
   "metadata": {},
   "outputs": [],
   "source": [
    "import pandas as pd\n",
    "from sklearn.preprocessing import StandardScaler\n",
    "from sklearn.metrics import classification_report\n",
    "from sklearn.metrics import confusion_matrix\n",
    "from sklearn.model_selection import train_test_split\n",
    "from sklearn.ensemble import RandomForestRegressor\n",
    "\n",
    "from sklearn.model_selection import cross_val_score\n",
    "from sklearn.metrics import mean_squared_error, mean_absolute_error\n",
    "\n",
    "from joblib import dump, load"
   ]
  },
  {
   "cell_type": "code",
   "execution_count": 27,
   "metadata": {},
   "outputs": [],
   "source": [
    "df = pd.read_csv('Mumbai1.csv')"
   ]
  },
  {
   "cell_type": "code",
   "execution_count": 28,
   "metadata": {},
   "outputs": [
    {
     "data": {
      "text/plain": [
       "0        4850000\n",
       "1        4500000\n",
       "2        6700000\n",
       "3        4500000\n",
       "4        5000000\n",
       "          ...   \n",
       "6342     2485000\n",
       "6343    14500000\n",
       "6344    14500000\n",
       "6345     4100000\n",
       "6346     2750000\n",
       "Name: Price, Length: 6347, dtype: int64"
      ]
     },
     "execution_count": 28,
     "metadata": {},
     "output_type": "execute_result"
    }
   ],
   "source": [
    "df.Price"
   ]
  },
  {
   "cell_type": "code",
   "execution_count": 29,
   "metadata": {},
   "outputs": [
    {
     "data": {
      "text/plain": [
       "Index(['Unnamed: 0', 'Price', 'Area', 'Location', 'No. of Bedrooms',\n",
       "       'New/Resale', 'Gymnasium', 'Lift Available', 'Car Parking',\n",
       "       'Maintenance Staff', '24x7 Security', 'Children's Play Area',\n",
       "       'Clubhouse', 'Intercom', 'Landscaped Gardens', 'Indoor Games',\n",
       "       'Gas Connection', 'Jogging Track', 'Swimming Pool'],\n",
       "      dtype='object')"
      ]
     },
     "execution_count": 29,
     "metadata": {},
     "output_type": "execute_result"
    }
   ],
   "source": [
    "df.columns"
   ]
  },
  {
   "cell_type": "code",
   "execution_count": 30,
   "metadata": {},
   "outputs": [
    {
     "data": {
      "text/html": [
       "<div>\n",
       "<style scoped>\n",
       "    .dataframe tbody tr th:only-of-type {\n",
       "        vertical-align: middle;\n",
       "    }\n",
       "\n",
       "    .dataframe tbody tr th {\n",
       "        vertical-align: top;\n",
       "    }\n",
       "\n",
       "    .dataframe thead th {\n",
       "        text-align: right;\n",
       "    }\n",
       "</style>\n",
       "<table border=\"1\" class=\"dataframe\">\n",
       "  <thead>\n",
       "    <tr style=\"text-align: right;\">\n",
       "      <th></th>\n",
       "      <th>Unnamed: 0</th>\n",
       "      <th>Price</th>\n",
       "      <th>Area</th>\n",
       "      <th>Location</th>\n",
       "      <th>No. of Bedrooms</th>\n",
       "      <th>New/Resale</th>\n",
       "      <th>Gymnasium</th>\n",
       "      <th>Lift Available</th>\n",
       "      <th>Car Parking</th>\n",
       "      <th>Maintenance Staff</th>\n",
       "      <th>24x7 Security</th>\n",
       "      <th>Children's Play Area</th>\n",
       "      <th>Clubhouse</th>\n",
       "      <th>Intercom</th>\n",
       "      <th>Landscaped Gardens</th>\n",
       "      <th>Indoor Games</th>\n",
       "      <th>Gas Connection</th>\n",
       "      <th>Jogging Track</th>\n",
       "      <th>Swimming Pool</th>\n",
       "    </tr>\n",
       "  </thead>\n",
       "  <tbody>\n",
       "    <tr>\n",
       "      <th>0</th>\n",
       "      <td>0</td>\n",
       "      <td>4850000</td>\n",
       "      <td>720</td>\n",
       "      <td>Kharghar</td>\n",
       "      <td>1</td>\n",
       "      <td>0</td>\n",
       "      <td>0</td>\n",
       "      <td>1</td>\n",
       "      <td>1</td>\n",
       "      <td>1</td>\n",
       "      <td>1</td>\n",
       "      <td>0</td>\n",
       "      <td>0</td>\n",
       "      <td>0</td>\n",
       "      <td>0</td>\n",
       "      <td>0</td>\n",
       "      <td>0</td>\n",
       "      <td>0</td>\n",
       "      <td>0</td>\n",
       "    </tr>\n",
       "    <tr>\n",
       "      <th>1</th>\n",
       "      <td>1</td>\n",
       "      <td>4500000</td>\n",
       "      <td>600</td>\n",
       "      <td>Kharghar</td>\n",
       "      <td>1</td>\n",
       "      <td>0</td>\n",
       "      <td>1</td>\n",
       "      <td>1</td>\n",
       "      <td>1</td>\n",
       "      <td>1</td>\n",
       "      <td>1</td>\n",
       "      <td>0</td>\n",
       "      <td>1</td>\n",
       "      <td>0</td>\n",
       "      <td>0</td>\n",
       "      <td>0</td>\n",
       "      <td>0</td>\n",
       "      <td>1</td>\n",
       "      <td>1</td>\n",
       "    </tr>\n",
       "    <tr>\n",
       "      <th>2</th>\n",
       "      <td>2</td>\n",
       "      <td>6700000</td>\n",
       "      <td>650</td>\n",
       "      <td>Kharghar</td>\n",
       "      <td>1</td>\n",
       "      <td>0</td>\n",
       "      <td>1</td>\n",
       "      <td>1</td>\n",
       "      <td>1</td>\n",
       "      <td>1</td>\n",
       "      <td>1</td>\n",
       "      <td>1</td>\n",
       "      <td>1</td>\n",
       "      <td>1</td>\n",
       "      <td>0</td>\n",
       "      <td>0</td>\n",
       "      <td>0</td>\n",
       "      <td>1</td>\n",
       "      <td>1</td>\n",
       "    </tr>\n",
       "    <tr>\n",
       "      <th>3</th>\n",
       "      <td>3</td>\n",
       "      <td>4500000</td>\n",
       "      <td>650</td>\n",
       "      <td>Kharghar</td>\n",
       "      <td>1</td>\n",
       "      <td>0</td>\n",
       "      <td>0</td>\n",
       "      <td>1</td>\n",
       "      <td>1</td>\n",
       "      <td>1</td>\n",
       "      <td>1</td>\n",
       "      <td>0</td>\n",
       "      <td>0</td>\n",
       "      <td>1</td>\n",
       "      <td>1</td>\n",
       "      <td>0</td>\n",
       "      <td>0</td>\n",
       "      <td>0</td>\n",
       "      <td>0</td>\n",
       "    </tr>\n",
       "    <tr>\n",
       "      <th>4</th>\n",
       "      <td>4</td>\n",
       "      <td>5000000</td>\n",
       "      <td>665</td>\n",
       "      <td>Kharghar</td>\n",
       "      <td>1</td>\n",
       "      <td>0</td>\n",
       "      <td>0</td>\n",
       "      <td>1</td>\n",
       "      <td>1</td>\n",
       "      <td>1</td>\n",
       "      <td>1</td>\n",
       "      <td>0</td>\n",
       "      <td>0</td>\n",
       "      <td>1</td>\n",
       "      <td>1</td>\n",
       "      <td>0</td>\n",
       "      <td>0</td>\n",
       "      <td>0</td>\n",
       "      <td>0</td>\n",
       "    </tr>\n",
       "  </tbody>\n",
       "</table>\n",
       "</div>"
      ],
      "text/plain": [
       "   Unnamed: 0    Price  Area  Location  No. of Bedrooms  New/Resale  \\\n",
       "0           0  4850000   720  Kharghar                1           0   \n",
       "1           1  4500000   600  Kharghar                1           0   \n",
       "2           2  6700000   650  Kharghar                1           0   \n",
       "3           3  4500000   650  Kharghar                1           0   \n",
       "4           4  5000000   665  Kharghar                1           0   \n",
       "\n",
       "   Gymnasium  Lift Available  Car Parking  Maintenance Staff  24x7 Security  \\\n",
       "0          0               1            1                  1              1   \n",
       "1          1               1            1                  1              1   \n",
       "2          1               1            1                  1              1   \n",
       "3          0               1            1                  1              1   \n",
       "4          0               1            1                  1              1   \n",
       "\n",
       "   Children's Play Area  Clubhouse  Intercom  Landscaped Gardens  \\\n",
       "0                     0          0         0                   0   \n",
       "1                     0          1         0                   0   \n",
       "2                     1          1         1                   0   \n",
       "3                     0          0         1                   1   \n",
       "4                     0          0         1                   1   \n",
       "\n",
       "   Indoor Games  Gas Connection  Jogging Track  Swimming Pool  \n",
       "0             0               0              0              0  \n",
       "1             0               0              1              1  \n",
       "2             0               0              1              1  \n",
       "3             0               0              0              0  \n",
       "4             0               0              0              0  "
      ]
     },
     "execution_count": 30,
     "metadata": {},
     "output_type": "execute_result"
    }
   ],
   "source": [
    "df.head()"
   ]
  },
  {
   "cell_type": "code",
   "execution_count": 31,
   "metadata": {},
   "outputs": [],
   "source": [
    "X=df[['Area', 'No. of Bedrooms', 'New/Resale', 'Gymnasium', 'Lift Available', 'Car Parking','Maintenance Staff',\n",
    "       '24x7 Security','Clubhouse', 'Intercom', 'Landscaped Gardens', 'Indoor Games', 'Gas Connection',\n",
    "       'Jogging Track', 'Swimming Pool']]\n",
    "y=df[['Price']]"
   ]
  },
  {
   "cell_type": "code",
   "execution_count": 32,
   "metadata": {},
   "outputs": [],
   "source": [
    "'''scaler = StandardScaler()\n",
    "scaledX = scaler.fit_transform(X)'''\n",
    "xtrain,xtest,ytrain,ytest = train_test_split(X,y,test_size=.2)"
   ]
  },
  {
   "cell_type": "code",
   "execution_count": 33,
   "metadata": {},
   "outputs": [
    {
     "name": "stderr",
     "output_type": "stream",
     "text": [
      "C:\\Users\\ZAID\\AppData\\Local\\Temp\\ipykernel_17972\\1216676884.py:2: DataConversionWarning: A column-vector y was passed when a 1d array was expected. Please change the shape of y to (n_samples,), for example using ravel().\n",
      "  model.fit(xtrain,ytrain)\n"
     ]
    },
    {
     "name": "stdout",
     "output_type": "stream",
     "text": [
      "score: 69.0548471372616\n",
      "mse: 46639297297868.57\n",
      "mae: 3269257.700723752\n"
     ]
    }
   ],
   "source": [
    "model = RandomForestRegressor()\n",
    "model.fit(xtrain,ytrain)\n",
    "print(\"score:\", model.score(xtest,ytest) * 100)\n",
    "pred = model.predict(X)\n",
    "print(\"mse:\",mean_squared_error(y,pred))\n",
    "print(\"mae:\",mean_absolute_error(y,pred))"
   ]
  },
  {
   "cell_type": "code",
   "execution_count": 34,
   "metadata": {},
   "outputs": [
    {
     "data": {
      "text/plain": [
       "['model.pkl']"
      ]
     },
     "execution_count": 34,
     "metadata": {},
     "output_type": "execute_result"
    }
   ],
   "source": [
    "dump(model,'model.pkl')"
   ]
  },
  {
   "cell_type": "code",
   "execution_count": 35,
   "metadata": {},
   "outputs": [
    {
     "name": "stderr",
     "output_type": "stream",
     "text": [
      "c:\\Users\\ZAID\\miniconda\\lib\\site-packages\\sklearn\\base.py:450: UserWarning: X does not have valid feature names, but RandomForestRegressor was fitted with feature names\n",
      "  warnings.warn(\n"
     ]
    },
    {
     "data": {
      "text/plain": [
       "15627950.000000002"
      ]
     },
     "execution_count": 35,
     "metadata": {},
     "output_type": "execute_result"
    }
   ],
   "source": [
    "model.predict([[1232,2,1,1,0,1,0,0,1,0,0,0,1,1,0]])[0]"
   ]
  },
  {
   "cell_type": "code",
   "execution_count": null,
   "metadata": {},
   "outputs": [],
   "source": []
  }
 ],
 "metadata": {
  "interpreter": {
   "hash": "203ec5af3e26acf3e3c83a4183d4b4efe59642f60e2721ccf6236536a59ece46"
  },
  "kernelspec": {
   "display_name": "Python 3.9.7 ('base')",
   "language": "python",
   "name": "python3"
  },
  "language_info": {
   "codemirror_mode": {
    "name": "ipython",
    "version": 3
   },
   "file_extension": ".py",
   "mimetype": "text/x-python",
   "name": "python",
   "nbconvert_exporter": "python",
   "pygments_lexer": "ipython3",
   "version": "3.9.7"
  },
  "orig_nbformat": 4
 },
 "nbformat": 4,
 "nbformat_minor": 2
}
